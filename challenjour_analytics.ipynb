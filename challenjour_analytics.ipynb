{
 "metadata": {
  "language_info": {
   "codemirror_mode": {
    "name": "ipython",
    "version": 3
   },
   "file_extension": ".py",
   "mimetype": "text/x-python",
   "name": "python",
   "nbconvert_exporter": "python",
   "pygments_lexer": "ipython3",
   "version": "3.8.4-final"
  },
  "orig_nbformat": 2,
  "kernelspec": {
   "name": "python3",
   "display_name": "Python 3",
   "language": "python"
  }
 },
 "nbformat": 4,
 "nbformat_minor": 2,
 "cells": [
  {
   "cell_type": "code",
   "execution_count": 5,
   "metadata": {},
   "outputs": [
    {
     "output_type": "stream",
     "name": "stdout",
     "text": [
      "challenjourrrrr\n"
     ]
    }
   ],
   "source": [
    "print(\"challenjourrrrr\")"
   ]
  },
  {
   "cell_type": "code",
   "execution_count": 6,
   "metadata": {},
   "outputs": [
    {
     "output_type": "stream",
     "name": "stdout",
     "text": [
      "Requirement already satisfied: xlrd in /Users/emilyyu/.platformio/penv/lib/python3.8/site-packages (1.2.0)\n",
      "\u001b[33mWARNING: You are using pip version 20.2.3; however, version 20.3.3 is available.\n",
      "You should consider upgrading via the '/Users/emilyyu/.platformio/penv/bin/python -m pip install --upgrade pip' command.\u001b[0m\n"
     ]
    }
   ],
   "source": [
    "# setup\n",
    "!pip install xlrd\n",
    "import pandas as pd"
   ]
  },
  {
   "cell_type": "code",
   "execution_count": 7,
   "metadata": {},
   "outputs": [
    {
     "output_type": "execute_result",
     "data": {
      "text/plain": [
       "       Unnamed: 0      gameId  season         role    lane  \\\n",
       "0               0  4118590836      13         SOLO     TOP   \n",
       "1               1  4118495113      13  DUO_SUPPORT    NONE   \n",
       "2               2  4118432488      13  DUO_SUPPORT    NONE   \n",
       "3               3  4118306793      13         SOLO     TOP   \n",
       "4               4  4105344112      13  DUO_SUPPORT    NONE   \n",
       "...           ...         ...     ...          ...     ...   \n",
       "59344          95  4165335600      13          DUO    NONE   \n",
       "59345          96  4164540964      13  DUO_SUPPORT  BOTTOM   \n",
       "59346          97  4164397966      13  DUO_SUPPORT  BOTTOM   \n",
       "59347          98  4164339196      13  DUO_SUPPORT  BOTTOM   \n",
       "59348          99  4164323321      13  DUO_SUPPORT  BOTTOM   \n",
       "\n",
       "                                             accountId  \n",
       "0      IIWG7FRiqE8CuZaCslKkNxkglwpgnePPxDslb2tv66FKrgo  \n",
       "1      IIWG7FRiqE8CuZaCslKkNxkglwpgnePPxDslb2tv66FKrgo  \n",
       "2      IIWG7FRiqE8CuZaCslKkNxkglwpgnePPxDslb2tv66FKrgo  \n",
       "3      IIWG7FRiqE8CuZaCslKkNxkglwpgnePPxDslb2tv66FKrgo  \n",
       "4      IIWG7FRiqE8CuZaCslKkNxkglwpgnePPxDslb2tv66FKrgo  \n",
       "...                                                ...  \n",
       "59344     N1zaglgoWTch14yyt0KL7P5iPKB5or3YBI0Ba44Pgwsg  \n",
       "59345     N1zaglgoWTch14yyt0KL7P5iPKB5or3YBI0Ba44Pgwsg  \n",
       "59346     N1zaglgoWTch14yyt0KL7P5iPKB5or3YBI0Ba44Pgwsg  \n",
       "59347     N1zaglgoWTch14yyt0KL7P5iPKB5or3YBI0Ba44Pgwsg  \n",
       "59348     N1zaglgoWTch14yyt0KL7P5iPKB5or3YBI0Ba44Pgwsg  \n",
       "\n",
       "[59349 rows x 6 columns]"
      ],
      "text/html": "<div>\n<style scoped>\n    .dataframe tbody tr th:only-of-type {\n        vertical-align: middle;\n    }\n\n    .dataframe tbody tr th {\n        vertical-align: top;\n    }\n\n    .dataframe thead th {\n        text-align: right;\n    }\n</style>\n<table border=\"1\" class=\"dataframe\">\n  <thead>\n    <tr style=\"text-align: right;\">\n      <th></th>\n      <th>Unnamed: 0</th>\n      <th>gameId</th>\n      <th>season</th>\n      <th>role</th>\n      <th>lane</th>\n      <th>accountId</th>\n    </tr>\n  </thead>\n  <tbody>\n    <tr>\n      <th>0</th>\n      <td>0</td>\n      <td>4118590836</td>\n      <td>13</td>\n      <td>SOLO</td>\n      <td>TOP</td>\n      <td>IIWG7FRiqE8CuZaCslKkNxkglwpgnePPxDslb2tv66FKrgo</td>\n    </tr>\n    <tr>\n      <th>1</th>\n      <td>1</td>\n      <td>4118495113</td>\n      <td>13</td>\n      <td>DUO_SUPPORT</td>\n      <td>NONE</td>\n      <td>IIWG7FRiqE8CuZaCslKkNxkglwpgnePPxDslb2tv66FKrgo</td>\n    </tr>\n    <tr>\n      <th>2</th>\n      <td>2</td>\n      <td>4118432488</td>\n      <td>13</td>\n      <td>DUO_SUPPORT</td>\n      <td>NONE</td>\n      <td>IIWG7FRiqE8CuZaCslKkNxkglwpgnePPxDslb2tv66FKrgo</td>\n    </tr>\n    <tr>\n      <th>3</th>\n      <td>3</td>\n      <td>4118306793</td>\n      <td>13</td>\n      <td>SOLO</td>\n      <td>TOP</td>\n      <td>IIWG7FRiqE8CuZaCslKkNxkglwpgnePPxDslb2tv66FKrgo</td>\n    </tr>\n    <tr>\n      <th>4</th>\n      <td>4</td>\n      <td>4105344112</td>\n      <td>13</td>\n      <td>DUO_SUPPORT</td>\n      <td>NONE</td>\n      <td>IIWG7FRiqE8CuZaCslKkNxkglwpgnePPxDslb2tv66FKrgo</td>\n    </tr>\n    <tr>\n      <th>...</th>\n      <td>...</td>\n      <td>...</td>\n      <td>...</td>\n      <td>...</td>\n      <td>...</td>\n      <td>...</td>\n    </tr>\n    <tr>\n      <th>59344</th>\n      <td>95</td>\n      <td>4165335600</td>\n      <td>13</td>\n      <td>DUO</td>\n      <td>NONE</td>\n      <td>N1zaglgoWTch14yyt0KL7P5iPKB5or3YBI0Ba44Pgwsg</td>\n    </tr>\n    <tr>\n      <th>59345</th>\n      <td>96</td>\n      <td>4164540964</td>\n      <td>13</td>\n      <td>DUO_SUPPORT</td>\n      <td>BOTTOM</td>\n      <td>N1zaglgoWTch14yyt0KL7P5iPKB5or3YBI0Ba44Pgwsg</td>\n    </tr>\n    <tr>\n      <th>59346</th>\n      <td>97</td>\n      <td>4164397966</td>\n      <td>13</td>\n      <td>DUO_SUPPORT</td>\n      <td>BOTTOM</td>\n      <td>N1zaglgoWTch14yyt0KL7P5iPKB5or3YBI0Ba44Pgwsg</td>\n    </tr>\n    <tr>\n      <th>59347</th>\n      <td>98</td>\n      <td>4164339196</td>\n      <td>13</td>\n      <td>DUO_SUPPORT</td>\n      <td>BOTTOM</td>\n      <td>N1zaglgoWTch14yyt0KL7P5iPKB5or3YBI0Ba44Pgwsg</td>\n    </tr>\n    <tr>\n      <th>59348</th>\n      <td>99</td>\n      <td>4164323321</td>\n      <td>13</td>\n      <td>DUO_SUPPORT</td>\n      <td>BOTTOM</td>\n      <td>N1zaglgoWTch14yyt0KL7P5iPKB5or3YBI0Ba44Pgwsg</td>\n    </tr>\n  </tbody>\n</table>\n<p>59349 rows × 6 columns</p>\n</div>"
     },
     "metadata": {},
     "execution_count": 7
    }
   ],
   "source": [
    "# read in initial csv \n",
    "\n",
    "df = pd.read_csv('data/challenger_match_V2.csv')\n",
    "df"
   ]
  },
  {
   "cell_type": "code",
   "execution_count": 8,
   "metadata": {},
   "outputs": [],
   "source": [
    "# create script selenium to automate riot api sample requests and fill in csv"
   ]
  },
  {
   "cell_type": "code",
   "execution_count": 9,
   "metadata": {},
   "outputs": [],
   "source": [
    "# perform similar clustering to "
   ]
  }
 ]
}